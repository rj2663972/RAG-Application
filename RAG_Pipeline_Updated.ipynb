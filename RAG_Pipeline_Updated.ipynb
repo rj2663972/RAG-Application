{
  "nbformat": 4,
  "nbformat_minor": 0,
  "metadata": {
    "colab": {
      "provenance": [],
      "authorship_tag": "ABX9TyM8wSTnLuxBJ31Vha3xrvLL",
      "include_colab_link": true
    },
    "kernelspec": {
      "name": "python3",
      "display_name": "Python 3"
    },
    "language_info": {
      "name": "python"
    }
  },
  "cells": [
    {
      "cell_type": "markdown",
      "metadata": {
        "id": "view-in-github",
        "colab_type": "text"
      },
      "source": [
        "<a href=\"https://colab.research.google.com/github/rj2663972/RAG-Application/blob/main/RAG_Pipeline_Updated.ipynb\" target=\"_parent\"><img src=\"https://colab.research.google.com/assets/colab-badge.svg\" alt=\"Open In Colab\"/></a>"
      ]
    },
    {
      "cell_type": "markdown",
      "source": [
        "**Install Dependecies**"
      ],
      "metadata": {
        "id": "cTiSUK14a5aL"
      }
    },
    {
      "cell_type": "code",
      "execution_count": null,
      "metadata": {
        "collapsed": true,
        "id": "eem2Kgd5QZGV"
      },
      "outputs": [],
      "source": [
        "!pip install langchain_community langchainhub chromadb langchain langchain_openai"
      ]
    },
    {
      "cell_type": "markdown",
      "source": [
        "**Import Open AI API Keys**"
      ],
      "metadata": {
        "id": "yA1YmZQCbCaK"
      }
    },
    {
      "cell_type": "code",
      "source": [
        "from google.colab import userdata\n",
        "import os\n",
        "os.environ['OPENAI_API_KEY'] = userdata.get('open-api-key')"
      ],
      "metadata": {
        "id": "u50erpFhRFXF"
      },
      "execution_count": null,
      "outputs": []
    },
    {
      "cell_type": "markdown",
      "source": [
        "**Using WebBasedLoaders to Scrap a website and prepare documents**"
      ],
      "metadata": {
        "id": "TZbEUMdibHYQ"
      }
    },
    {
      "cell_type": "code",
      "source": [
        "from langchain_community.document_loaders import WebBaseLoader\n",
        "\n",
        "loader = WebBaseLoader(web_paths=[\"https://www.educosys.com/course/genai\"])\n",
        "\n",
        "docs = loader.load()\n",
        "print(f\"Loaded {len(docs)} raw documents (web pages).\")"
      ],
      "metadata": {
        "id": "FfdNCNUKRbH2"
      },
      "execution_count": null,
      "outputs": []
    },
    {
      "cell_type": "markdown",
      "source": [
        "**Creating chunks of the documents**"
      ],
      "metadata": {
        "id": "RYoqI1ePbQ2a"
      }
    },
    {
      "cell_type": "code",
      "source": [
        "from langchain.text_splitter import RecursiveCharacterTextSplitter\n",
        "\n",
        "text_splitter = RecursiveCharacterTextSplitter(chunk_size=800, chunk_overlap=150)\n",
        "splits = text_splitter.split_documents(docs)\n",
        "\n",
        "print(f\"Created {len(splits)} chunks. Example chunk length: {len(splits[0].page_content)} chars\")\n",
        "print(\"----- Sample chunk start -----\")\n",
        "print(splits[0].page_content[:500])\n",
        "print(\"----- Sample chunk end -----\")"
      ],
      "metadata": {
        "id": "1VaEAw6ASi7Q"
      },
      "execution_count": null,
      "outputs": []
    },
    {
      "cell_type": "markdown",
      "source": [
        "**Prepare Embeddings of the chunks and store them in Chroma DB Vector Store**"
      ],
      "metadata": {
        "id": "GO2qVkkRbYuA"
      }
    },
    {
      "cell_type": "code",
      "source": [
        "from langchain_openai import OpenAIEmbeddings\n",
        "from langchain.vectorstores import Chroma\n",
        "\n",
        "PERSIST_DIR = \"./chroma_db\"\n",
        "embeddings = OpenAIEmbeddings()\n",
        "\n",
        "# Load existing DB if present; otherwise create and persist:\n",
        "if os.path.exists(PERSIST_DIR) and os.listdir(PERSIST_DIR):\n",
        "    print(\"Loading existing Chromadb from disk...\")\n",
        "    vectorstore = Chroma(persist_directory=PERSIST_DIR, embedding_function=embeddings)\n",
        "else:\n",
        "    print(\"Creating new Chromadb from documents (may take time for embeddings)...\")\n",
        "    vectorstore = Chroma.from_documents(splits, embeddings, persist_directory=PERSIST_DIR)\n",
        "    try:\n",
        "        # persist the DB to avoid re-embedding next runs\n",
        "        vectorstore.persist()\n",
        "        print(f\"Persisted Chroma DB to {PERSIST_DIR}\")\n",
        "    except Exception as e:\n",
        "        print(\"Persist failed (non-fatal):\", e)\n",
        "\n",
        "# Expose retriever (same shape as your original)\n",
        "retriever = vectorstore.as_retriever(search_kwargs={\"k\": 5})"
      ],
      "metadata": {
        "id": "s6A8ATfKTJ-8"
      },
      "execution_count": null,
      "outputs": []
    },
    {
      "cell_type": "markdown",
      "source": [
        "**Create Prompt and LLM**"
      ],
      "metadata": {
        "id": "esAp1ieMbgdk"
      }
    },
    {
      "cell_type": "code",
      "source": [
        "from langchain import hub\n",
        "from langchain_openai import ChatOpenAI\n",
        "\n",
        "prompt = hub.pull(\"rlm/rag-prompt\")\n",
        "llm = ChatOpenAI(model_name=\"gpt-3.5-turbo\", temperature=0)"
      ],
      "metadata": {
        "id": "q7esB7fjWa9C"
      },
      "execution_count": null,
      "outputs": []
    },
    {
      "cell_type": "code",
      "source": [
        "def format_docs(docs):\n",
        "    \"\"\"\n",
        "    Build a single context string out of retrieved docs.\n",
        "    Each doc will include a small excerpt and its source metadata (if present).\n",
        "    \"\"\"\n",
        "    parts = []\n",
        "    for i, d in enumerate(docs):\n",
        "        src = d.metadata.get(\"source\", f\"doc_{i}\")\n",
        "        excerpt = d.page_content.strip().replace(\"\\n\", \" \")\n",
        "        # include only a reasonable excerpt (to limit tokens)\n",
        "        excerpt_snippet = excerpt[:800]\n",
        "        parts.append(f\"[Source: {src}]\\n{excerpt_snippet}\")\n",
        "    return \"\\n\\n---\\n\\n\".join(parts)"
      ],
      "metadata": {
        "id": "IzywQZa7W58Z"
      },
      "execution_count": null,
      "outputs": []
    },
    {
      "cell_type": "markdown",
      "source": [
        "**Final Rag Pipeline**"
      ],
      "metadata": {
        "id": "CuvyUsFUbxq_"
      }
    },
    {
      "cell_type": "code",
      "source": [
        "from langchain_core.runnables import RunnablePassthrough\n",
        "from langchain_core.output_parsers import StrOutputParser\n",
        "\n",
        "rag_chain = ({\"context\": retriever | format_docs, \"question\": RunnablePassthrough()}\n",
        "             | prompt\n",
        "             | llm\n",
        "             | StrOutputParser())"
      ],
      "metadata": {
        "id": "oZme0fOOWoh9"
      },
      "execution_count": null,
      "outputs": []
    },
    {
      "cell_type": "markdown",
      "source": [
        "**Test the Rag pipeline**"
      ],
      "metadata": {
        "id": "xuxN0IDxb2Ia"
      }
    },
    {
      "cell_type": "code",
      "source": [
        "rag_chain.invoke(\"Are the recordings of the course available? For how long?\")"
      ],
      "metadata": {
        "id": "58ItmlmDYaLQ"
      },
      "execution_count": null,
      "outputs": []
    }
  ]
}